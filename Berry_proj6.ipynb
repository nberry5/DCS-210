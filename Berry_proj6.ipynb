{
  "nbformat": 4,
  "nbformat_minor": 0,
  "metadata": {
    "colab": {
      "provenance": [],
      "authorship_tag": "ABX9TyNqs+AAMzs6k945M8Te8ncF",
      "include_colab_link": true
    },
    "kernelspec": {
      "name": "ir",
      "display_name": "R"
    },
    "language_info": {
      "name": "R"
    }
  },
  "cells": [
    {
      "cell_type": "markdown",
      "metadata": {
        "id": "view-in-github",
        "colab_type": "text"
      },
      "source": [
        "<a href=\"https://colab.research.google.com/github/nberry5/DCS-210/blob/main/Berry_proj6.ipynb\" target=\"_parent\"><img src=\"https://colab.research.google.com/assets/colab-badge.svg\" alt=\"Open In Colab\"/></a>"
      ]
    },
    {
      "cell_type": "code",
      "execution_count": null,
      "metadata": {
        "id": "kdT7-i8NjqNk"
      },
      "outputs": [],
      "source": [
        "install.packages(\"tidyverse\")\n"
      ]
    },
    {
      "cell_type": "code",
      "source": [
        "install.packages(\"tidymodels\")\n"
      ],
      "metadata": {
        "id": "A_rz8ra9kQDR"
      },
      "execution_count": null,
      "outputs": []
    },
    {
      "cell_type": "code",
      "source": [
        "install.packages(\"openintro\")"
      ],
      "metadata": {
        "id": "acu-w5vOkROc"
      },
      "execution_count": null,
      "outputs": []
    },
    {
      "cell_type": "code",
      "source": [
        "library(tidyverse)\n",
        "library(tidymodels)\n",
        "library(openintro)"
      ],
      "metadata": {
        "id": "1QP7Dn3uyX_s"
      },
      "execution_count": 93,
      "outputs": []
    },
    {
      "cell_type": "code",
      "source": [
        "set.seed(5551212)"
      ],
      "metadata": {
        "id": "06v1g3ZTy6C0"
      },
      "execution_count": 5,
      "outputs": []
    },
    {
      "cell_type": "code",
      "source": [
        "data(ncbirths)"
      ],
      "metadata": {
        "id": "_5veAUlezwdu"
      },
      "execution_count": 7,
      "outputs": []
    },
    {
      "cell_type": "code",
      "source": [
        "?ncbirths"
      ],
      "metadata": {
        "id": "ZFgX_cuK0vYc"
      },
      "execution_count": 74,
      "outputs": []
    },
    {
      "cell_type": "code",
      "source": [
        "summary(ncbirths)"
      ],
      "metadata": {
        "id": "-IIdVoHX1Gsu"
      },
      "execution_count": null,
      "outputs": []
    },
    {
      "cell_type": "code",
      "source": [
        "# cases are births, there are 1,000 cases"
      ],
      "metadata": {
        "id": "ZyKjMozb03JR"
      },
      "execution_count": 11,
      "outputs": []
    },
    {
      "cell_type": "code",
      "source": [
        "str(ncbirths)"
      ],
      "metadata": {
        "colab": {
          "base_uri": "https://localhost:8080/"
        },
        "id": "qdnX0TPO1pTk",
        "outputId": "be05e436-852e-4acc-8c0d-9435ce532806"
      },
      "execution_count": 13,
      "outputs": [
        {
          "output_type": "stream",
          "name": "stdout",
          "text": [
            "tibble [1,000 × 13] (S3: tbl_df/tbl/data.frame)\n",
            " $ fage          : int [1:1000] NA NA 19 21 NA NA 18 17 NA 20 ...\n",
            " $ mage          : int [1:1000] 13 14 15 15 15 15 15 15 16 16 ...\n",
            " $ mature        : Factor w/ 2 levels \"mature mom\",\"younger mom\": 2 2 2 2 2 2 2 2 2 2 ...\n",
            " $ weeks         : int [1:1000] 39 42 37 41 39 38 37 35 38 37 ...\n",
            " $ premie        : Factor w/ 2 levels \"full term\",\"premie\": 1 1 1 1 1 1 1 2 1 1 ...\n",
            " $ visits        : int [1:1000] 10 15 11 6 9 19 12 5 9 13 ...\n",
            " $ marital       : Factor w/ 2 levels \"not married\",..: 1 1 1 1 1 1 1 1 1 1 ...\n",
            " $ gained        : int [1:1000] 38 20 38 34 27 22 76 15 NA 52 ...\n",
            " $ weight        : num [1:1000] 7.63 7.88 6.63 8 6.38 5.38 8.44 4.69 8.81 6.94 ...\n",
            " $ lowbirthweight: Factor w/ 2 levels \"low\",\"not low\": 2 2 2 2 2 1 2 1 2 2 ...\n",
            " $ gender        : Factor w/ 2 levels \"female\",\"male\": 2 2 1 2 1 2 2 2 2 1 ...\n",
            " $ habit         : Factor w/ 2 levels \"nonsmoker\",\"smoker\": 1 1 1 1 1 1 1 1 1 1 ...\n",
            " $ whitemom      : Factor w/ 2 levels \"not white\",\"white\": 1 1 2 2 1 1 1 1 2 2 ...\n"
          ]
        }
      ]
    },
    {
      "cell_type": "code",
      "source": [
        "# The variables of type Factor above are categorical.\n",
        "# Those of type int and num are numerical."
      ],
      "metadata": {
        "id": "ZRX0lQFF2Ksy"
      },
      "execution_count": 14,
      "outputs": []
    },
    {
      "cell_type": "code",
      "source": [
        "ncbirths_white <- ncbirths %>%\n",
        "  filter(whitemom == \"white\")"
      ],
      "metadata": {
        "id": "goxgzIJw2YGn"
      },
      "execution_count": 16,
      "outputs": []
    },
    {
      "cell_type": "code",
      "source": [
        "summary(ncbirths_white)"
      ],
      "metadata": {
        "colab": {
          "base_uri": "https://localhost:8080/",
          "height": 446
        },
        "id": "fmv4uD_i4gGL",
        "outputId": "b4f9428c-d525-4135-9514-a8979127f7f6"
      },
      "execution_count": 17,
      "outputs": [
        {
          "output_type": "display_data",
          "data": {
            "text/plain": [
              "      fage            mage               mature        weeks      \n",
              " Min.   :14.00   Min.   :15.00   mature mom :103   Min.   :22.00  \n",
              " 1st Qu.:26.00   1st Qu.:23.00   younger mom:611   1st Qu.:38.00  \n",
              " Median :31.00   Median :27.50                     Median :39.00  \n",
              " Mean   :30.69   Mean   :27.65                     Mean   :38.51  \n",
              " 3rd Qu.:35.00   3rd Qu.:32.00                     3rd Qu.:40.00  \n",
              " Max.   :50.00   Max.   :50.00                     Max.   :45.00  \n",
              " NA's   :77                                        NA's   :2      \n",
              "       premie        visits            marital        gained     \n",
              " full term:616   Min.   : 0.0   not married:203   Min.   : 0.00  \n",
              " premie   : 96   1st Qu.:10.0   married    :510   1st Qu.:22.00  \n",
              " NA's     :  2   Median :12.0   NA's       :  1   Median :30.00  \n",
              "                 Mean   :12.3                     Mean   :30.98  \n",
              "                 3rd Qu.:15.0                     3rd Qu.:40.00  \n",
              "                 Max.   :30.0                     Max.   :85.00  \n",
              "                 NA's   :4                        NA's   :20     \n",
              "     weight      lowbirthweight    gender          habit          whitemom  \n",
              " Min.   : 1.00   low    : 68    female:367   nonsmoker:617   not white:  0  \n",
              " 1st Qu.: 6.63   not low:646    male  :347   smoker   : 96   white    :714  \n",
              " Median : 7.44                               NA's     :  1                  \n",
              " Mean   : 7.25                                                              \n",
              " 3rd Qu.: 8.13                                                              \n",
              " Max.   :11.75                                                              \n",
              "                                                                            "
            ]
          },
          "metadata": {}
        }
      ]
    },
    {
      "cell_type": "code",
      "source": [
        "# mean weight is 7.25, which is slightly higher than the overall mean of 7.101."
      ],
      "metadata": {
        "id": "UXDwTH3Z4mvv"
      },
      "execution_count": 20,
      "outputs": []
    },
    {
      "cell_type": "code",
      "source": [
        "# yes, because the sample size is still 714, giving enough space for sampling\n",
        "# without worrying about skew."
      ],
      "metadata": {
        "id": "q_Us20Pg-Aqi"
      },
      "execution_count": 47,
      "outputs": []
    },
    {
      "cell_type": "code",
      "source": [
        "t.test(weight, data = ncbirths_white, mu = 7.43, alternative = \"two.sided\")"
      ],
      "metadata": {
        "id": "BtLZJu4hB54T"
      },
      "execution_count": null,
      "outputs": []
    },
    {
      "cell_type": "code",
      "source": [
        "# with a p-value below .05, we can say that the mean weight of caucasian\n",
        "# babies (with the assumption that babies with white moms are white) is \n",
        "# significantly different from the mean weight of 7.43 pounds from 1995."
      ],
      "metadata": {
        "id": "ZtuaiRgKMY79"
      },
      "execution_count": 100,
      "outputs": []
    },
    {
      "cell_type": "code",
      "source": [
        "boxplot(weight ~ habit, data = ncbirths, xlab = \"Habit\", ylab = \"Weight\")"
      ],
      "metadata": {
        "colab": {
          "base_uri": "https://localhost:8080/",
          "height": 437
        },
        "id": "ccb7KXCW5hcA",
        "outputId": "ff89455c-9b02-42fd-ce2b-a4af9d412ffd"
      },
      "execution_count": 24,
      "outputs": [
        {
          "output_type": "display_data",
          "data": {
            "text/plain": [
              "plot without title"
            ],
            "image/png": "[encoded data removed]"
          },
          "metadata": {
            "image/png": {
              "width": 420,
              "height": 420
            }
          }
        }
      ]
    },
    {
      "cell_type": "code",
      "source": [
        "# the nonsmoker distribution is right-skewed. The smoker one does have a few\n",
        "# outliers, but the nonsmoker is more dramatic."
      ],
      "metadata": {
        "id": "HD7ZSEXd7sm-"
      },
      "execution_count": 25,
      "outputs": []
    },
    {
      "cell_type": "code",
      "source": [
        "ncbirths_habitgiven <- na.omit(ncbirths)"
      ],
      "metadata": {
        "id": "6fVkOXad8F4x"
      },
      "execution_count": 29,
      "outputs": []
    },
    {
      "cell_type": "code",
      "source": [
        "ncbirths_habitgiven %>%\n",
        "  group_by(habit) %>%\n",
        "  summarise(mean_weight = mean(weight))"
      ],
      "metadata": {
        "colab": {
          "base_uri": "https://localhost:8080/",
          "height": 161
        },
        "id": "YZk6DjVi8nQx",
        "outputId": "c09b0f19-baf5-4fb8-f510-15b6735f48e0"
      },
      "execution_count": 31,
      "outputs": [
        {
          "output_type": "display_data",
          "data": {
            "text/html": [
              "<table class=\"dataframe\">\n",
              "<caption>A tibble: 2 × 2</caption>\n",
              "<thead>\n",
              "\t<tr><th scope=col>habit</th><th scope=col>mean_weight</th></tr>\n",
              "\t<tr><th scope=col>&lt;fct&gt;</th><th scope=col>&lt;dbl&gt;</th></tr>\n",
              "</thead>\n",
              "<tbody>\n",
              "\t<tr><td>nonsmoker</td><td>7.246760</td></tr>\n",
              "\t<tr><td>smoker   </td><td>6.886429</td></tr>\n",
              "</tbody>\n",
              "</table>\n"
            ],
            "text/markdown": "\nA tibble: 2 × 2\n\n| habit &lt;fct&gt; | mean_weight &lt;dbl&gt; |\n|---|---|\n| nonsmoker | 7.246760 |\n| smoker    | 6.886429 |\n\n",
            "text/latex": "A tibble: 2 × 2\n\\begin{tabular}{ll}\n habit & mean\\_weight\\\\\n <fct> & <dbl>\\\\\n\\hline\n\t nonsmoker & 7.246760\\\\\n\t smoker    & 6.886429\\\\\n\\end{tabular}\n",
            "text/plain": [
              "  habit     mean_weight\n",
              "1 nonsmoker 7.246760   \n",
              "2 smoker    6.886429   "
            ]
          },
          "metadata": {}
        }
      ]
    },
    {
      "cell_type": "markdown",
      "source": [
        "H0: *u*(smoking) == *u*(nonsmoking) \\\n",
        "HA: *u*(smoking) != *u*(nonsmoking)"
      ],
      "metadata": {
        "id": "vYVwBun785sN"
      }
    },
    {
      "cell_type": "code",
      "source": [
        "ncbirths %>%\n",
        "   group_by(habit) %>%\n",
        "   summarise(group_size = n())"
      ],
      "metadata": {
        "colab": {
          "base_uri": "https://localhost:8080/",
          "height": 192
        },
        "id": "M_FHGnuB41WD",
        "outputId": "7134cf89-9cfd-4432-8b27-9edf748c179e"
      },
      "execution_count": 36,
      "outputs": [
        {
          "output_type": "display_data",
          "data": {
            "text/html": [
              "<table class=\"dataframe\">\n",
              "<caption>A tibble: 3 × 2</caption>\n",
              "<thead>\n",
              "\t<tr><th scope=col>habit</th><th scope=col>group_size</th></tr>\n",
              "\t<tr><th scope=col>&lt;fct&gt;</th><th scope=col>&lt;int&gt;</th></tr>\n",
              "</thead>\n",
              "<tbody>\n",
              "\t<tr><td>nonsmoker</td><td>873</td></tr>\n",
              "\t<tr><td>smoker   </td><td>126</td></tr>\n",
              "\t<tr><td>NA       </td><td>  1</td></tr>\n",
              "</tbody>\n",
              "</table>\n"
            ],
            "text/markdown": "\nA tibble: 3 × 2\n\n| habit &lt;fct&gt; | group_size &lt;int&gt; |\n|---|---|\n| nonsmoker | 873 |\n| smoker    | 126 |\n| NA        |   1 |\n\n",
            "text/latex": "A tibble: 3 × 2\n\\begin{tabular}{ll}\n habit & group\\_size\\\\\n <fct> & <int>\\\\\n\\hline\n\t nonsmoker & 873\\\\\n\t smoker    & 126\\\\\n\t NA        &   1\\\\\n\\end{tabular}\n",
            "text/plain": [
              "  habit     group_size\n",
              "1 nonsmoker 873       \n",
              "2 smoker    126       \n",
              "3 NA          1       "
            ]
          },
          "metadata": {}
        }
      ]
    },
    {
      "cell_type": "code",
      "source": [
        "# The conditions are sufficient to conduct simulation based inference.\n",
        "# The sample size is large enough that skew is not a concern."
      ],
      "metadata": {
        "id": "1Ono7DyN5O2B"
      },
      "execution_count": 22,
      "outputs": []
    },
    {
      "cell_type": "code",
      "source": [
        "t.test(weight ~ habit, data = ncbirths, conf.level = 0.95)"
      ],
      "metadata": {
        "colab": {
          "base_uri": "https://localhost:8080/",
          "height": 231
        },
        "id": "ni6kYnZI_2oW",
        "outputId": "877dfd07-949b-4ab9-81fa-433f3b4f5cb9"
      },
      "execution_count": 60,
      "outputs": [
        {
          "output_type": "display_data",
          "data": {
            "text/plain": [
              "\n",
              "\tWelch Two Sample t-test\n",
              "\n",
              "data:  weight by habit\n",
              "t = 2.359, df = 171.32, p-value = 0.01945\n",
              "alternative hypothesis: true difference in means between group nonsmoker and group smoker is not equal to 0\n",
              "95 percent confidence interval:\n",
              " 0.05151165 0.57957328\n",
              "sample estimates:\n",
              "mean in group nonsmoker    mean in group smoker \n",
              "               7.144273                6.828730 \n"
            ]
          },
          "metadata": {}
        }
      ]
    },
    {
      "cell_type": "code",
      "source": [
        "# this is a statistically significant result, where we can be 95% confident\n",
        "# that the difference between the means of smokers' baby weight and nonsmokers'\n",
        "# baby weights is between 0.05 and 0.58."
      ],
      "metadata": {
        "id": "q7ixN3MFGbDl"
      },
      "execution_count": 64,
      "outputs": []
    },
    {
      "cell_type": "code",
      "source": [
        "ncbirths_mature <- ncbirths %>%\n",
        "  filter(mature == \"mature mom\")"
      ],
      "metadata": {
        "id": "EykOthg4HAH5"
      },
      "execution_count": 85,
      "outputs": []
    },
    {
      "cell_type": "code",
      "source": [
        "ncbirths_mature"
      ],
      "metadata": {
        "id": "-3FpAv_mI54q"
      },
      "execution_count": null,
      "outputs": []
    },
    {
      "cell_type": "code",
      "source": [
        "# the cutoff age is 34-35. By filtering the data on the mature variable,\n",
        "# one can see that the lowest age for \"mature moms\" is 35, while the oldest\n",
        "# for \"younger moms\" is 34."
      ],
      "metadata": {
        "id": "Uzx_ePk-JUxh"
      },
      "execution_count": 87,
      "outputs": []
    },
    {
      "cell_type": "code",
      "source": [
        "t.test(weight ~ mature, data = ncbirths, conf.level = 0.95)"
      ],
      "metadata": {
        "colab": {
          "base_uri": "https://localhost:8080/",
          "height": 231
        },
        "id": "W4D7CgcHJjQ0",
        "outputId": "c3eec9d8-46bc-40db-ff27-dff5731038c3"
      },
      "execution_count": 88,
      "outputs": [
        {
          "output_type": "display_data",
          "data": {
            "text/plain": [
              "\n",
              "\tWelch Two Sample t-test\n",
              "\n",
              "data:  weight by mature\n",
              "t = 0.18584, df = 166.08, p-value = 0.8528\n",
              "alternative hypothesis: true difference in means between group mature mom and group younger mom is not equal to 0\n",
              "95 percent confidence interval:\n",
              " -0.2726579  0.3293220\n",
              "sample estimates:\n",
              " mean in group mature mom mean in group younger mom \n",
              "                 7.125564                  7.097232 \n"
            ]
          },
          "metadata": {}
        }
      ]
    },
    {
      "cell_type": "code",
      "source": [
        "# there is no statistically significant difference between the mean weight of\n",
        "# a younger mom's baby and the mean weight of an older mom's baby."
      ],
      "metadata": {
        "id": "MK1iEczeJvTr"
      },
      "execution_count": 89,
      "outputs": []
    }
  ]
}